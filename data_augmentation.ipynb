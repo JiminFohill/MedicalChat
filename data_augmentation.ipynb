{
 "cells": [
  {
   "cell_type": "code",
   "execution_count": 2,
   "metadata": {},
   "outputs": [],
   "source": [
    "import pandas as pd\n",
    "import numpy as np\n",
    "import matplotlib.pyplot as plt"
   ]
  },
  {
   "cell_type": "code",
   "execution_count": 3,
   "metadata": {},
   "outputs": [],
   "source": [
    "# 假设数据集文件名为 dataset.csv\n",
    "aug_data = pd.read_csv('E:\\\\AI\\\\MedicalChat\\\\datasets\\\\raw_and_generate_dataset\\\\train_data_old.csv')\n",
    "raw_data = pd.read_csv('E:\\\\AI\\\\MedicalChat\\\\datasets\\\\raw_dataset\\\\train_data_old.csv')"
   ]
  },
  {
   "cell_type": "code",
   "execution_count": 14,
   "metadata": {},
   "outputs": [
    {
     "data": {
      "image/png": "[encoded data removed]",
      "text/plain": [
       "<Figure size 800x600 with 1 Axes>"
      ]
     },
     "metadata": {},
     "output_type": "display_data"
    }
   ],
   "source": [
    "# 假设你已经加载了数据到aug_data和raw_data中\n",
    "\n",
    "# 过滤掉不需要的question_type\n",
    "filtered_question_types = ['level', 'location', 'type', 'view']\n",
    "aug_data_filtered = aug_data[~aug_data['question_type'].isin(filtered_question_types)]\n",
    "raw_data_filtered = raw_data[~raw_data['question_type'].isin(filtered_question_types)]\n",
    "\n",
    "# 计算aug_data中每个question_type的数据量\n",
    "aug_data_counts = aug_data_filtered['question_type'].value_counts()\n",
    "\n",
    "# 计算raw_data中每个question_type的数据量\n",
    "raw_data_counts = raw_data_filtered['question_type'].value_counts()\n",
    "\n",
    "# 获取所有的question_type\n",
    "all_question_types = sorted(set(raw_data_filtered['question_type'].unique()) | set(aug_data_filtered['question_type'].unique()))\n",
    "\n",
    "# 创建一个数组，用于绘制x轴位置\n",
    "x = np.arange(len(all_question_types))\n",
    "\n",
    "# 设置图形大小\n",
    "plt.figure(figsize=(8, 6))\n",
    "\n",
    "# 绘制raw_data的柱状图\n",
    "plt.bar(x-0.15, [raw_data_counts.get(q_type, 0) for q_type in all_question_types], width=0.3, color='orange', label='raw data')\n",
    "# for i, count in enumerate([raw_data_counts.get(q_type, 0) for q_type in all_question_types]):\n",
    "#     plt.text(i - 0.2, count + 0.1, str(count), ha='center')\n",
    "\n",
    "# 绘制aug_data的柱状图\n",
    "plt.bar(x+0.15 , [aug_data_counts.get(q_type, 0) for q_type in all_question_types], width=0.3, color='blue', label='new data')\n",
    "# for i, count in enumerate([aug_data_counts.get(q_type, 0) for q_type in all_question_types]):\n",
    "#     plt.text(i + 0.2, count + 0.1, str(count), ha='center')\n",
    "\n",
    "# 设置x轴标签和标题\n",
    "plt.xlabel('Question Type')\n",
    "plt.ylabel('Count')\n",
    "plt.xticks(x, all_question_types, rotation=0, ha='right')\n",
    "\n",
    "# 添加图例\n",
    "plt.legend()\n",
    "\n",
    "# 显示图形\n",
    "plt.tight_layout()\n",
    "plt.show()\n"
   ]
  },
  {
   "cell_type": "code",
   "execution_count": 6,
   "metadata": {},
   "outputs": [
    {
     "name": "stdout",
     "output_type": "stream",
     "text": [
      "一共有16869个测试\n"
     ]
    }
   ],
   "source": [
    "\n",
    "# 创建一个空的DataFrame，用于存储最终的数据\n",
    "def process_data(input_data):\n",
    "    final_data = pd.DataFrame()\n",
    "    change_count = 0\n",
    "    for index, row in input_data.iterrows():\n",
    "        question_type = row['question_type']\n",
    "        question = row['question']\n",
    "\n",
    "        if question_type == 'abnormality':\n",
    "            if question == 'is there evidence of any abnormalities in this image?':\n",
    "                row['question'] = 'Is there nothing unusual about this image?'\n",
    "                row['answer'] = 'yes' if row['answer'] == 'no' else 'no'\n",
    "                change_count += 1\n",
    "\n",
    "            elif question == 'what abnormalities are seen in this image?':\n",
    "                answers = row['answer'].split(',')\n",
    "                if 'atelectasis' not in answers:\n",
    "                    row['question'] = 'According to this image, is it atelectasis? Are there any other abnormalities?'\n",
    "                    row['answer'] = 'Not atelectasis, but {}'.format(row['answer'])\n",
    "                    change_count += 1\n",
    "                elif 'atelectasis' in answers:\n",
    "                    row['question'] = 'According to this image, is it pleural effusion?'\n",
    "                    row['answer'] = 'no, it’s atelectasis'\n",
    "                    change_count += 1\n",
    "\n",
    "        elif question_type == 'presence':\n",
    "            if question == 'is there evidence of pleural effusion in this image?':\n",
    "                row['question'] = 'Is there no evidence of pleural effusion in this image?'\n",
    "                row['answer'] = 'yes' if row['answer'] == 'no' else 'no'\n",
    "                change_count += 1\n",
    "\n",
    "            elif question == 'is there pleural effusion?':\n",
    "                row['question'] = 'Is there no pleural effusion?'\n",
    "                row['answer'] = 'yes' if row['answer'] == 'no' else 'no'\n",
    "                change_count += 1\n",
    "\n",
    "            elif question == 'is there pneumothorax?':\n",
    "                row['question'] = 'Is there no pneumothorax?'\n",
    "                row['answer'] = 'yes' if row['answer'] == 'no' else 'no'\n",
    "                change_count += 1\n",
    "\n",
    "        elif question_type == 'level':\n",
    "            words = row['question'].split()\n",
    "            words = words[4]\n",
    "            row['question'] = 'Is {} serious?'.format(words)\n",
    "            row['answer'] = 'yes' if row['answer'] == 'severe' else 'no, but {}'.format(row['answer'])\n",
    "            change_count += 1\n",
    "\n",
    "        # final_data = final_data.append(row, ignore_index=True)\n",
    "        final_data = pd.concat([final_data, row.to_frame().T], ignore_index=True)\n",
    "        \n",
    "    print(f'一共生成了{change_count}行')\n",
    "    \n",
    "    return final_data\n",
    "\n",
    "def text_data(input_data):\n",
    "    text_data = pd.DataFrame()\n",
    "    count = 0\n",
    "    for index, row in input_data.iterrows():\n",
    "        question_type = row['question_type']\n",
    "        question = row['question']\n",
    "        types = ['abnormality','presence','level']\n",
    "        questions = ['is there evidence of any abnormalities in this image?',\\\n",
    "                     'what abnormalities are seen in this image?',\\\n",
    "                     'is there evidence of pleural effusion in this image?',\\\n",
    "                     'is there pleural effusion?',\\\n",
    "                     'is there pneumothorax?']\n",
    "        \n",
    "        if question_type in types:\n",
    "            if question in questions:\n",
    "                text_data = pd.concat([text_data, row.to_frame().T], ignore_index=True)\n",
    "                count += 1\n",
    "                \n",
    "    print(f'一共有{count}个测试')\n",
    "    return text_data\n",
    "\n",
    "# 使用示例\n",
    "# text_data = text_data(data)\n",
    "\n",
    "\n",
    "\n",
    "# 将最终的数据保存到 merged_mimic_more.csv 文件\n",
    "# final_data.to_csv('merged_mimic_more.csv', index=False)\n"
   ]
  },
  {
   "cell_type": "code",
   "execution_count": 7,
   "metadata": {},
   "outputs": [
    {
     "name": "stdout",
     "output_type": "stream",
     "text": [
      "一共生成了{change_count}行\n"
     ]
    }
   ],
   "source": [
    "# output_data = process_data(text_data)\n",
    "# output_data.to_csv('../data/medical-aug-vqa/generate_data_16869_rows.csv', index=False)"
   ]
  },
  {
   "cell_type": "code",
   "execution_count": 8,
   "metadata": {},
   "outputs": [
    {
     "data": {
      "text/plain": [
       "16869"
      ]
     },
     "execution_count": 8,
     "metadata": {},
     "output_type": "execute_result"
    }
   ],
   "source": [
    "len(output_data)"
   ]
  },
  {
   "cell_type": "code",
   "execution_count": null,
   "metadata": {},
   "outputs": [],
   "source": [
    "raw_data = pd.read_csv('../data/medical-aug-vqa/raw_data_70070_rows.csv')\n",
    "generate_data = pd.read_csv('../data/medical-aug-vqa/raw_data_70070_rows_generate.csv')"
   ]
  },
  {
   "cell_type": "code",
   "execution_count": null,
   "metadata": {},
   "outputs": [],
   "source": [
    "# 合并数据框，并添加is_generate字段\n",
    "merged_data = pd.merge(raw_data, generate_data, how='outer', indicator=True)\n",
    "\n",
    "# 为is_generate字段赋值\n",
    "merged_data['is_generate'] = 0\n",
    "merged_data.loc[merged_data['_merge'] == 'right_only', 'is_generate'] = 1\n",
    "\n",
    "# 删除不需要的_merge字段\n",
    "merged_data = merged_data.drop('_merge', axis=1)\n",
    "\n",
    "merged_data.to_csv('../data/medical-aug-vqa/row_data_and_generate_data_86939_rows.csv', index=False)"
   ]
  },
  {
   "attachments": {},
   "cell_type": "markdown",
   "metadata": {},
   "source": [
    "<class 'pandas.core.frame.DataFrame'>\n",
    "RangeIndex: 86939 entries, 0 to 86938\n",
    "Data columns (total 7 columns):\n",
    " #   Column         Non-Null Count  Dtype \n",
    "---  ------         --------------  ----- \n",
    " 0   study_id       86939 non-null  int64 \n",
    " 1   subject_id     86939 non-null  int64 \n",
    " 2   question_type  86939 non-null  object\n",
    " 3   question       86939 non-null  object\n",
    " 4   answer         86939 non-null  object\n",
    " 5   dicom_id       86939 non-null  object\n",
    " 6   is_generate    86939 non-null  int64 \n",
    "dtypes: int64(3), object(4)\n",
    "memory usage: 4.6+ MB"
   ]
  }
 ],
 "metadata": {
  "kernelspec": {
   "display_name": "NLP_Study",
   "language": "python",
   "name": "python3"
  },
  "language_info": {
   "codemirror_mode": {
    "name": "ipython",
    "version": 3
   },
   "file_extension": ".py",
   "mimetype": "text/x-python",
   "name": "python",
   "nbconvert_exporter": "python",
   "pygments_lexer": "ipython3",
   "version": "3.8.18"
  },
  "orig_nbformat": 4
 },
 "nbformat": 4,
 "nbformat_minor": 2
}
